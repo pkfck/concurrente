{
 "cells": [
  {
   "cell_type": "markdown",
   "id": "9453b03c-e306-4590-a5c7-e4bda571d1f6",
   "metadata": {},
   "source": [
    "<!-- PROFILE LINK -->\n",
    "<h1 style = \"text-align:center; font-size: 30px\">PROGRAMACIÓN CONCURRENTE Y DISTRIBUIDA</h1>\n",
    "<a href =\"https://github.com/pkfck/concurrente\">\n",
    "<img src=\"https://avatars.githubusercontent.com/u/101180395?v=4\" style=\"float:left;vertical-align:centre\" width=\"110\" height=\"110\" title = \"Christian Vlaldimir Sucuzhanay Arevalo 21535220\">\n",
    "<a href =\"https://github.com/pkfck/concurrente\">\n",
    "<img src=\"https://media-exp1.licdn.com/dms/image/C4D0BAQEu_Aa76fcmPw/company-logo_200_200/0/1630998679429?e=2159024400&v=beta&t=2feC9GG7RWCWizTqsK5HzDWB1TL2DOQuAVwnMf6FFvk\" title = \"M41\" alt=\"UE\" width=\"110\" height=\"110\" style=\"float:right;vertical-align:centre\">\n"
   ]
  },
  {
   "cell_type": "code",
   "execution_count": 41,
   "id": "c18e86d9-fa1e-48d6-957c-90b779e5deb5",
   "metadata": {},
   "outputs": [],
   "source": [
    "import multiprocessing as mp, threading, os, platform, requests, json, random, math, time\n"
   ]
  },
  {
   "cell_type": "code",
   "execution_count": 42,
   "id": "147c2b54-efa7-43b9-8df4-0aefd599714e",
   "metadata": {},
   "outputs": [],
   "source": [
    "def sec_mult(A, B): # f() que calcula la mult. en secuencial, como toda la vidas se ha hecho\n",
    "    C = [[0] * n_col_B for i in range(n_fil_A)] # crear y poblar la matriz C=A*B\n",
    "    for i in range(n_fil_A): #Hago la multiplicacion A*B=C, i oara iterar sobre las fi \n",
    "        for j in range(n_col_B): # j para iterar sobre las columnas de B\n",
    "            for k in range(n_col_A): # k para iterar en C\n",
    "                C[i][j] += A[i][j] * B[i][j] # Aqui se hace la multiplicacion y guardo en C\n",
    "    return C"
   ]
  },
  {
   "cell_type": "code",
   "execution_count": 43,
   "id": "50072945-632a-48a0-9e5f-ab371839a9dc",
   "metadata": {},
   "outputs": [],
   "source": [
    "def par_mult(A, B): #f() que prepara el reparto de trabajo para la mult en paralelo\n",
    "    n_cores = mp.cpu_count() #Obtengo los cores de mi pc\n",
    "    sice_col = math.ceil(n_col_B/n_cores) #Columnas a procesar x c/cpre, ver excel adjunto\n",
    "    sice_fil = math.ceil(n_fil_A/n_cores) #filas a procesar x c/cpre, ver excel adjunto\n",
    "    MC = mp.RawArray('i', n_fil_A * n_col_B) #araay MC de memoria compartida sobre se almacenaran los resultados\n",
    "    cores = [] # Array para guardar los cores y su trabajo\n",
    "    for core in range(n_cores):#Asigna a cada core el trabajo que le toca, ver excel adjunto\n",
    "        i_MC = min(core * size_fil, n_fil_A) #Calculo i para marcar inicio del trabajo del core en relacion a las filas\n",
    "        f_MC = min((core + 1) * size_fil, n_fil_A) #Calculo f para marcar fin del trbajo del core, ver excel\n",
    "        cores.append(mp.Process(target=par_core, args=(A, B, MC, i_MC, f_MC))) #añado al array los cores y su trabajo\n",
    "    for core in cores:\n",
    "        core.start() #Arranco y ejecuto el trabajo para c/ uno de los cores que tenga mi equipo, ver excel\n",
    "    for core in cores:\n",
    "        core.join() #Bloqueo cualquier llamada hasta que terminen su trabajo todos los cores\n",
    "    C_2D = [[0] * n_col_B for i in range(n_fil_A)] # Convierto el array unidimensional MC en una matri 2D (C_2D)\n",
    "    for i in range(n_fil_A):# i para iterar sobre las filas de A\n",
    "        for j in range(n_col_B): #j para iterar sobre las columnas de B\n",
    "            C_2D[i][j] = MC[i*n_col_B + j] #Guardo el C_2D los datos del array Mc\n",
    "    return C_2D\n",
    "        "
   ]
  },
  {
   "cell_type": "code",
   "execution_count": 44,
   "id": "c3eee99c-273b-4ef1-90eb-8aad1ee4a18c",
   "metadata": {},
   "outputs": [],
   "source": [
    "def par_core(A, B, MC, i_MC, f_MC): #La tarea que hacen todos los cores\n",
    "    for i in range(i_MC, f_MC): #Size representado en colores en el excel que itera sobre las filas en A\n",
    "        for j in range(len(B[0])): #Size representado en colores en el excel que itera sobre las conlumnas en B\n",
    "            for k in range(len(A[0])): #n_fil_B  o lo que es lo mismo el n_col_A\n",
    "                MC[i*len(B[0]) + j] += A[i][k] * B[k][j] # Guarda resultado en MC[] de cada core\n",
    "            \n",
    "            "
   ]
  },
  {
   "cell_type": "code",
   "execution_count": null,
   "id": "7a140629-c2e9-4fc3-8d93-02cc272499cf",
   "metadata": {},
   "outputs": [],
   "source": [
    "if __name__ == '__main__':\n",
    "    A = [[random.randint(0,215) for i in range(6)] for j in range(22169594)] #Genero A[22169594] con num.aleatorios del 0 al 215, ver excel\n",
    "    B = [[random.randint(0,215) for i in range(200)] for j in range(6)] #Genero B[6] [22169594] con num.aleatorios del 0 al 215, ver excel\n",
    "    n_fil_A = len(A) # Obtengo num de filas de A\n",
    "    n_col_A = len(A[0]) # Obtengo num de columnas de A\n",
    "    n_fil_B = len(B) # Obtengo num de filas de B\n",
    "    n_col_B = len(B[0]) # Obtengo num de columnas de B\n",
    "    if n_col_A != n_fil_B: raise Exception('Dimensiones no validas') # Compruebo que se puedan multiplicar A y B\n",
    "    inicioS = time.time()\n",
    "    sec_mult(A, B) # Ejecuto multiplicacion secuencial\n",
    "    finS = time.time()\n",
    "    inicioP = time.time()\n",
    "    par_mult(A, B) # Ejecuto multiplicaion paralela\n",
    "    finP = time.time()\n",
    "    print('\\n\\nMatriz A y B se han multiplicado con exicto en SECUENCIAL ha tardado ', finS-inicioS, ' y en PARARELO ', finP-inicioP)"
   ]
  },
  {
   "cell_type": "code",
   "execution_count": null,
   "id": "2857d389-ad04-4bc1-af7c-aa8926e84693",
   "metadata": {},
   "outputs": [],
   "source": []
  }
 ],
 "metadata": {
  "kernelspec": {
   "display_name": "Python 3 (ipykernel)",
   "language": "python",
   "name": "python3"
  },
  "language_info": {
   "codemirror_mode": {
    "name": "ipython",
    "version": 3
   },
   "file_extension": ".py",
   "mimetype": "text/x-python",
   "name": "python",
   "nbconvert_exporter": "python",
   "pygments_lexer": "ipython3",
   "version": "3.10.7"
  }
 },
 "nbformat": 4,
 "nbformat_minor": 5
}
