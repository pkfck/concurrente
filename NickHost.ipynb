{
 "cells": [
  {
   "cell_type": "code",
   "execution_count": null,
   "id": "ab777bdb-7313-4675-829b-a49584556402",
   "metadata": {},
   "outputs": [],
   "source": [
    "while True:\n",
    "    with open(\"ue22169594.txt\", 'a') as f:\n",
    "        nick = input(\"Introduce tu nickname: \")\n",
    "        f.write(nick)"
   ]
  },
  {
   "cell_type": "code",
   "execution_count": null,
   "id": "a15d20d1-795f-4abe-abd0-9eb7aecea5f2",
   "metadata": {},
   "outputs": [],
   "source": [
    "! ls ue22169594.txt"
   ]
  },
  {
   "cell_type": "code",
   "execution_count": null,
   "id": "221f5a72-03a3-4a4b-a8bf-eb22e1192c8b",
   "metadata": {},
   "outputs": [],
   "source": [
    "!less ue22169594.txt"
   ]
  },
  {
   "cell_type": "code",
   "execution_count": null,
   "id": "0f72ac1a-a5ca-4883-a1f2-bf75a596532d",
   "metadata": {},
   "outputs": [],
   "source": [
    "# Modos de crear file\n",
    "# append\n",
    "# read\n",
    "# write\n",
    "# create"
   ]
  },
  {
   "cell_type": "code",
   "execution_count": null,
   "id": "08dfe080-50c2-46fb-8100-8b25e0f7535f",
   "metadata": {},
   "outputs": [],
   "source": [
    "! dir"
   ]
  },
  {
   "cell_type": "code",
   "execution_count": null,
   "id": "e4201ee0-b7c1-4744-818e-70b6fd10cb80",
   "metadata": {},
   "outputs": [],
   "source": [
    "import socket as sc"
   ]
  },
  {
   "cell_type": "code",
   "execution_count": null,
   "id": "9d4b2c8f-ea6f-4b49-a3e4-29fcef485b2e",
   "metadata": {},
   "outputs": [],
   "source": [
    "s = sc.socket"
   ]
  },
  {
   "cell_type": "code",
   "execution_count": null,
   "id": "07e82c75-495d-41e1-9b0a-0cfe6f1ad69e",
   "metadata": {},
   "outputs": [],
   "source": [
    "ip_[2][0]"
   ]
  },
  {
   "cell_type": "code",
   "execution_count": null,
   "id": "757d8c46-85be-41d7-bd6b-8a2a69d66068",
   "metadata": {},
   "outputs": [],
   "source": [
    "!ping 10.34.81.61"
   ]
  },
  {
   "cell_type": "code",
   "execution_count": null,
   "id": "f5ce468c-ed2e-4dc9-8550-a2051dc4afd5",
   "metadata": {},
   "outputs": [],
   "source": [
    "ip_"
   ]
  },
  {
   "cell_type": "code",
   "execution_count": null,
   "id": "f646e53a-567c-4659-8443-354a6922c11e",
   "metadata": {},
   "outputs": [],
   "source": [
    "ip_ = sc.gethostbyname_ex(sc.gethostname())"
   ]
  },
  {
   "cell_type": "code",
   "execution_count": null,
   "id": "8e4cac9e-df9f-4974-b5b0-1081ba20934b",
   "metadata": {},
   "outputs": [],
   "source": [
    "s.bind((host,55555))"
   ]
  },
  {
   "cell_type": "code",
   "execution_count": null,
   "id": "b8b7ad40-3b40-4a27-bb9a-7790bebd2726",
   "metadata": {},
   "outputs": [],
   "source": [
    "! ipconfig"
   ]
  },
  {
   "cell_type": "code",
   "execution_count": null,
   "id": "d09cbdd8-36dd-44cc-8e01-10686af8cf7f",
   "metadata": {},
   "outputs": [],
   "source": [
    "s.connect((\"www.universidadeuropea.es\", 3424))"
   ]
  },
  {
   "cell_type": "code",
   "execution_count": null,
   "id": "814f792b-aac3-4844-818f-4bbeebeb9401",
   "metadata": {},
   "outputs": [],
   "source": [
    "sc.gethostbyname(\"www.universidadeuropea.es\")"
   ]
  },
  {
   "cell_type": "code",
   "execution_count": null,
   "id": "6fcc168b-638a-47e9-b0d4-f5d9c813bd38",
   "metadata": {},
   "outputs": [],
   "source": [
    "host"
   ]
  },
  {
   "cell_type": "code",
   "execution_count": null,
   "id": "ee8a25db-a3fd-4c4b-8c52-e0e09a09c3f4",
   "metadata": {},
   "outputs": [],
   "source": [
    "s.bind((host,55555))"
   ]
  },
  {
   "cell_type": "code",
   "execution_count": null,
   "id": "ec7d39c1-0d0e-48cb-a6de-84f88ed53433",
   "metadata": {},
   "outputs": [],
   "source": [
    "s.bind((\"www.universidadeuropea.es\", 3424))"
   ]
  },
  {
   "cell_type": "code",
   "execution_count": null,
   "id": "0736aeb5-e65c-473f-8ba8-630dc5e653f5",
   "metadata": {},
   "outputs": [],
   "source": [
    "host = sc.gethostbyname(sc.gethostname())"
   ]
  }
 ],
 "metadata": {
  "kernelspec": {
   "display_name": "Python 3 (ipykernel)",
   "language": "python",
   "name": "python3"
  },
  "language_info": {
   "codemirror_mode": {
    "name": "ipython",
    "version": 3
   },
   "file_extension": ".py",
   "mimetype": "text/x-python",
   "name": "python",
   "nbconvert_exporter": "python",
   "pygments_lexer": "ipython3",
   "version": "3.10.7"
  }
 },
 "nbformat": 4,
 "nbformat_minor": 5
}
